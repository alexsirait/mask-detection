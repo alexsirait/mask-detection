{
  "nbformat": 4,
  "nbformat_minor": 0,
  "metadata": {
    "colab": {
      "name": "DeteksiMasker.ipynb",
      "provenance": []
    },
    "kernelspec": {
      "name": "python3",
      "display_name": "Python 3"
    }
  },
  "cells": [
    {
      "cell_type": "code",
      "metadata": {
        "id": "Rzz0qAFV6XZe"
      },
      "source": [
        "import keras\n",
        "from keras.models import Sequential\n",
        "from keras.layers import Dense, Dropout, Flatten\n",
        "from keras.layers import Conv2D, MaxPooling2D\n",
        "from keras.utils import to_categorical\n",
        "from keras.preprocessing import image\n",
        "import numpy as np\n",
        "import pandas as pd\n",
        "import matplotlib.pyplot as plt\n",
        "from sklearn.model_selection import train_test_split\n",
        "from tqdm import tqdm\n",
        "%matplotlib inline\n",
        "from keras.layers import Input, Lambda, Dense, Flatten\n",
        "from keras.models import Model\n",
        "from keras.applications.vgg16 import VGG16\n",
        "from keras.applications.vgg16 import preprocess_input\n",
        "from keras.preprocessing import image\n",
        "from keras.preprocessing.image import ImageDataGenerator\n",
        "from keras.models import Sequential\n",
        "import numpy as np\n",
        "from glob import glob\n",
        "import matplotlib.pyplot as plt\n",
        "import os\n",
        "# from PIL import Image"
      ],
      "execution_count": 10,
      "outputs": []
    },
    {
      "cell_type": "code",
      "metadata": {
        "colab": {
          "base_uri": "https://localhost:8080/",
          "height": 35
        },
        "id": "zct5eiRS73W7",
        "outputId": "851234f8-fa60-4ba1-e9e2-529aeb86f763"
      },
      "source": [
        "import tensorflow as tf\n",
        "tf.__version__"
      ],
      "execution_count": 11,
      "outputs": [
        {
          "output_type": "execute_result",
          "data": {
            "application/vnd.google.colaboratory.intrinsic+json": {
              "type": "string"
            },
            "text/plain": [
              "'2.4.0'"
            ]
          },
          "metadata": {
            "tags": []
          },
          "execution_count": 11
        }
      ]
    },
    {
      "cell_type": "code",
      "metadata": {
        "id": "ZX1uxFl075WR"
      },
      "source": [
        "from keras.preprocessing.image import load_img, img_to_array\n",
        "from numpy import asarray\n",
        "from PIL import Image\n",
        "x = []\n",
        "y = []\n",
        "filenames = (os.listdir(\"/content/drive/MyDrive/dataset-train/dataset/with_mask\"))\n",
        "for i in filenames:\n",
        "    photo = load_img(\"/content/drive/MyDrive/dataset-train/dataset/with_mask/\"+i,target_size=(400,400))\n",
        "    photo = img_to_array(photo)\n",
        "    x.append(photo)\n",
        "    y.append(1) # 1 with mask\n",
        "filenames = (os.listdir(\"/content/drive/MyDrive/dataset-train/dataset/without_mask\"))\n",
        "for i in filenames:\n",
        "    photo = load_img(\"/content/drive/MyDrive/dataset-train/dataset/without_mask/\"+i,target_size=(400,400))\n",
        "    photo = img_to_array(photo)\n",
        "    x.append(photo)\n",
        "    y.append(0) # 0 without mask\n",
        "x = asarray(x)\n",
        "# for i in os.listdir(\"/content/drive/MyDrive/dataset-train/dataset/\"):\n",
        "#   for image in os.listdir(\"/content/drive/MyDrive/dataset-train/dataset/\" + i + \"/\"):\n",
        "#     path= \"/content/drive/MyDrive/dataset-train/dataset/\" + i + \"/\" + image\n",
        "#     imagePaths.append(path)\n"
      ],
      "execution_count": 13,
      "outputs": []
    },
    {
      "cell_type": "code",
      "metadata": {
        "id": "3VK_ZWWC8bdc"
      },
      "source": [
        "from sklearn.model_selection import train_test_split\n",
        "x_train, x_test, y_train, y_test = train_test_split(x, y, test_size=0.2, random_state=42)"
      ],
      "execution_count": 14,
      "outputs": []
    },
    {
      "cell_type": "code",
      "metadata": {
        "colab": {
          "base_uri": "https://localhost:8080/"
        },
        "id": "7jbYPHnv8egW",
        "outputId": "a137f77f-67d9-4630-e8b4-0fa4fab2ee29"
      },
      "source": [
        "print(x_train.shape, x_test.shape)"
      ],
      "execution_count": 15,
      "outputs": [
        {
          "output_type": "stream",
          "text": [
            "(1100, 400, 400, 3) (276, 400, 400, 3)\n"
          ],
          "name": "stdout"
        }
      ]
    },
    {
      "cell_type": "code",
      "metadata": {
        "id": "Yx7RDqdg8gHb"
      },
      "source": [
        "#convert dependent variable to categorical\n",
        "from keras.utils import to_categorical\n",
        "y_train = to_categorical(y_train)\n",
        "y_test = to_categorical(y_test)"
      ],
      "execution_count": 16,
      "outputs": []
    },
    {
      "cell_type": "code",
      "metadata": {
        "id": "X65WgUyn8hbn"
      },
      "source": [
        "#normalize data\n",
        "x_train = x_train/255.0\n",
        "x_test =  x_test/255.0"
      ],
      "execution_count": 17,
      "outputs": []
    },
    {
      "cell_type": "code",
      "metadata": {
        "id": "bIfBLZ558jDr"
      },
      "source": [
        "model = Sequential()\n",
        "model.add(Conv2D(filters=32, kernel_size=(3, 3), activation=\"relu\", input_shape=(400,400,3)))\n",
        "model.add(MaxPooling2D(pool_size=(2, 2)))\n",
        "#model.add(Dropout(0.2))\n",
        "model.add(Conv2D(filters=64, kernel_size=(3, 3), activation='relu'))\n",
        "model.add(MaxPooling2D(pool_size=(2, 2)))\n",
        "#model.add(Dropout(0.2))\n",
        "model.add(Conv2D(filters=64, kernel_size=(3, 3), activation=\"relu\"))\n",
        "model.add(MaxPooling2D(pool_size=(2, 2)))\n",
        "#model.add(Dropout(0.22))\n",
        "model.add(Conv2D(filters=128, kernel_size=(3, 3), activation='relu'))\n",
        "model.add(MaxPooling2D(pool_size=(2, 2)))\n",
        "model.add(Dropout(0.2))\n",
        "model.add(Conv2D(filters=128, kernel_size=(3, 3), activation='relu'))\n",
        "model.add(MaxPooling2D(pool_size=(2, 2)))\n",
        "#model.add(Dropout(0.25))\n",
        "model.add(Flatten())\n",
        "model.add(Dense(128, activation='relu'))\n",
        "#model.add(Dropout(0.5))\n",
        "#model.add(Dense(64, activation='relu'))\n",
        "#model.add(Dropout(0.5))\n",
        "model.add(Dense(2, activation='sigmoid'))"
      ],
      "execution_count": 18,
      "outputs": []
    },
    {
      "cell_type": "code",
      "metadata": {
        "id": "JYIecUhp8l3v"
      },
      "source": [
        "model.compile(\n",
        "  loss='binary_crossentropy',\n",
        "  optimizer='adam',\n",
        "  metrics=['accuracy']\n",
        ")"
      ],
      "execution_count": 19,
      "outputs": []
    },
    {
      "cell_type": "code",
      "metadata": {
        "colab": {
          "base_uri": "https://localhost:8080/"
        },
        "id": "EKUsvrAC8paR",
        "outputId": "25cd73cc-b14d-48ce-a127-b9b64fd199fb"
      },
      "source": [
        "#train model with training set\n",
        "model_train = model.fit(x_train, y_train, batch_size=64,epochs=4,verbose=1,validation_split=0.20)"
      ],
      "execution_count": 20,
      "outputs": [
        {
          "output_type": "stream",
          "text": [
            "Epoch 1/4\n",
            "14/14 [==============================] - 234s 17s/step - loss: 0.7597 - accuracy: 0.4909 - val_loss: 0.6572 - val_accuracy: 0.4864\n",
            "Epoch 2/4\n",
            "14/14 [==============================] - 230s 16s/step - loss: 0.5726 - accuracy: 0.6741 - val_loss: 0.2977 - val_accuracy: 0.9227\n",
            "Epoch 3/4\n",
            "14/14 [==============================] - 228s 16s/step - loss: 0.3459 - accuracy: 0.9065 - val_loss: 0.7318 - val_accuracy: 0.8000\n",
            "Epoch 4/4\n",
            "14/14 [==============================] - 229s 16s/step - loss: 0.5412 - accuracy: 0.8551 - val_loss: 0.1982 - val_accuracy: 0.9545\n"
          ],
          "name": "stdout"
        }
      ]
    },
    {
      "cell_type": "code",
      "metadata": {
        "id": "mUdMbtOz8sQ7"
      },
      "source": [
        "import tensorflow as tf\n",
        "from keras.models import load_model\n",
        "model.save('maskdetection.h5')"
      ],
      "execution_count": 21,
      "outputs": []
    },
    {
      "cell_type": "code",
      "metadata": {
        "colab": {
          "base_uri": "https://localhost:8080/",
          "height": 591
        },
        "id": "c3HDDDMH8uiS",
        "outputId": "446727c3-df9a-4b41-b1d5-313d94b3b619"
      },
      "source": [
        "from matplotlib import pyplot as plt\n",
        "print(model_train.history.keys())\n",
        "plt.plot(model_train.history['accuracy'])\n",
        "plt.plot(model_train.history['val_accuracy'])\n",
        "plt.title('model accuracy')\n",
        "plt.ylabel('accuracy')\n",
        "plt.xlabel('epoch')\n",
        "plt.legend(['train', 'val'], loc='upper left')\n",
        "plt.show()\n",
        "\n",
        "plt.plot(model_train.history['loss'])\n",
        "plt.plot(model_train.history['val_loss'])\n",
        "plt.title('model loss')\n",
        "plt.ylabel('loss')\n",
        "plt.xlabel('epoch')\n",
        "plt.legend(['loss', 'val'], loc='upper left')\n",
        "plt.show()"
      ],
      "execution_count": 22,
      "outputs": [
        {
          "output_type": "stream",
          "text": [
            "dict_keys(['loss', 'accuracy', 'val_loss', 'val_accuracy'])\n"
          ],
          "name": "stdout"
        },
        {
          "output_type": "display_data",
          "data": {
            "image/png": "[encoded data removed]",
            "text/plain": [
              "<Figure size 432x288 with 1 Axes>"
            ]
          },
          "metadata": {
            "tags": [],
            "needs_background": "light"
          }
        },
        {
          "output_type": "display_data",
          "data": {
            "image/png": "[encoded data removed]",
            "text/plain": [
              "<Figure size 432x288 with 1 Axes>"
            ]
          },
          "metadata": {
            "tags": [],
            "needs_background": "light"
          }
        }
      ]
    }
  ]
}